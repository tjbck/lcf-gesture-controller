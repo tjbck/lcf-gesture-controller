{
 "cells": [
  {
   "cell_type": "code",
   "execution_count": 22,
   "metadata": {
    "scrolled": true
   },
   "outputs": [
    {
     "name": "stdout",
     "output_type": "stream",
     "text": [
      "Requirement already satisfied: pip in /Users/tim/miniconda3/envs/ml/lib/python3.11/site-packages (23.3.1)\n",
      "Collecting pyyaml==5.3.1\n",
      "  Using cached PyYAML-5.3.1.tar.gz (269 kB)\n",
      "  Preparing metadata (setup.py) ... \u001b[?25ldone\n",
      "\u001b[?25hBuilding wheels for collected packages: pyyaml\n",
      "  Building wheel for pyyaml (setup.py) ... \u001b[?25ldone\n",
      "\u001b[?25h  Created wheel for pyyaml: filename=PyYAML-5.3.1-cp311-cp311-macosx_11_0_arm64.whl size=44639 sha256=3545745e1fd94d936908027052cb6d95668d4337081c17a0f3eeef3fb52ef481\n",
      "  Stored in directory: /Users/tim/Library/Caches/pip/wheels/93/d0/25/0923993e11f9273a21be3d272ca3dfe97c757a255a55c56bad\n",
      "Successfully built pyyaml\n",
      "Installing collected packages: pyyaml\n",
      "  Attempting uninstall: pyyaml\n",
      "    Found existing installation: PyYAML 6.0\n",
      "    Uninstalling PyYAML-6.0:\n",
      "      Successfully uninstalled PyYAML-6.0\n",
      "Successfully installed pyyaml-5.3.1\n",
      "Collecting mediapipe-model-maker\n",
      "  Using cached mediapipe_model_maker-0.2.1.3-py3-none-any.whl.metadata (1.6 kB)\n",
      "Requirement already satisfied: absl-py in /Users/tim/miniconda3/envs/ml/lib/python3.11/site-packages (from mediapipe-model-maker) (2.0.0)\n",
      "Requirement already satisfied: mediapipe>=0.10.0 in /Users/tim/miniconda3/envs/ml/lib/python3.11/site-packages (from mediapipe-model-maker) (0.10.5)\n",
      "Requirement already satisfied: numpy in /Users/tim/miniconda3/envs/ml/lib/python3.11/site-packages (from mediapipe-model-maker) (1.26.0)\n",
      "Requirement already satisfied: opencv-python in /Users/tim/miniconda3/envs/ml/lib/python3.11/site-packages (from mediapipe-model-maker) (4.8.1.78)\n",
      "Requirement already satisfied: tensorflow>=2.10 in /Users/tim/miniconda3/envs/ml/lib/python3.11/site-packages (from mediapipe-model-maker) (2.14.0)\n",
      "Collecting tensorflow-addons (from mediapipe-model-maker)\n",
      "  Using cached tensorflow_addons-0.22.0-cp311-cp311-macosx_11_0_arm64.whl.metadata (1.7 kB)\n",
      "Collecting tensorflow-datasets (from mediapipe-model-maker)\n",
      "  Using cached tensorflow_datasets-4.9.3-py3-none-any.whl.metadata (9.3 kB)\n",
      "Collecting tensorflow-hub (from mediapipe-model-maker)\n",
      "  Using cached tensorflow_hub-0.15.0-py2.py3-none-any.whl.metadata (1.3 kB)\n",
      "Collecting tf-models-official>=2.13.1 (from mediapipe-model-maker)\n",
      "  Using cached tf_models_official-2.14.2-py2.py3-none-any.whl.metadata (1.4 kB)\n",
      "Requirement already satisfied: attrs>=19.1.0 in /Users/tim/miniconda3/envs/ml/lib/python3.11/site-packages (from mediapipe>=0.10.0->mediapipe-model-maker) (23.1.0)\n",
      "Requirement already satisfied: flatbuffers>=2.0 in /Users/tim/miniconda3/envs/ml/lib/python3.11/site-packages (from mediapipe>=0.10.0->mediapipe-model-maker) (23.5.26)\n",
      "Requirement already satisfied: matplotlib in /Users/tim/miniconda3/envs/ml/lib/python3.11/site-packages (from mediapipe>=0.10.0->mediapipe-model-maker) (3.8.0)\n",
      "Requirement already satisfied: opencv-contrib-python in /Users/tim/miniconda3/envs/ml/lib/python3.11/site-packages (from mediapipe>=0.10.0->mediapipe-model-maker) (4.8.1.78)\n",
      "Requirement already satisfied: protobuf<4,>=3.11 in /Users/tim/miniconda3/envs/ml/lib/python3.11/site-packages (from mediapipe>=0.10.0->mediapipe-model-maker) (3.20.3)\n",
      "Requirement already satisfied: sounddevice>=0.4.4 in /Users/tim/miniconda3/envs/ml/lib/python3.11/site-packages (from mediapipe>=0.10.0->mediapipe-model-maker) (0.4.6)\n",
      "Requirement already satisfied: tensorflow-macos==2.14.0 in /Users/tim/miniconda3/envs/ml/lib/python3.11/site-packages (from tensorflow>=2.10->mediapipe-model-maker) (2.14.0)\n",
      "Requirement already satisfied: astunparse>=1.6.0 in /Users/tim/miniconda3/envs/ml/lib/python3.11/site-packages (from tensorflow-macos==2.14.0->tensorflow>=2.10->mediapipe-model-maker) (1.6.3)\n",
      "Requirement already satisfied: gast!=0.5.0,!=0.5.1,!=0.5.2,>=0.2.1 in /Users/tim/miniconda3/envs/ml/lib/python3.11/site-packages (from tensorflow-macos==2.14.0->tensorflow>=2.10->mediapipe-model-maker) (0.5.4)\n",
      "Requirement already satisfied: google-pasta>=0.1.1 in /Users/tim/miniconda3/envs/ml/lib/python3.11/site-packages (from tensorflow-macos==2.14.0->tensorflow>=2.10->mediapipe-model-maker) (0.2.0)\n",
      "Requirement already satisfied: h5py>=2.9.0 in /Users/tim/miniconda3/envs/ml/lib/python3.11/site-packages (from tensorflow-macos==2.14.0->tensorflow>=2.10->mediapipe-model-maker) (3.9.0)\n",
      "Requirement already satisfied: libclang>=13.0.0 in /Users/tim/miniconda3/envs/ml/lib/python3.11/site-packages (from tensorflow-macos==2.14.0->tensorflow>=2.10->mediapipe-model-maker) (16.0.6)\n",
      "Requirement already satisfied: ml-dtypes==0.2.0 in /Users/tim/miniconda3/envs/ml/lib/python3.11/site-packages (from tensorflow-macos==2.14.0->tensorflow>=2.10->mediapipe-model-maker) (0.2.0)\n",
      "Requirement already satisfied: opt-einsum>=2.3.2 in /Users/tim/miniconda3/envs/ml/lib/python3.11/site-packages (from tensorflow-macos==2.14.0->tensorflow>=2.10->mediapipe-model-maker) (3.3.0)\n",
      "Requirement already satisfied: packaging in /Users/tim/miniconda3/envs/ml/lib/python3.11/site-packages (from tensorflow-macos==2.14.0->tensorflow>=2.10->mediapipe-model-maker) (23.1)\n",
      "Requirement already satisfied: setuptools in /Users/tim/miniconda3/envs/ml/lib/python3.11/site-packages (from tensorflow-macos==2.14.0->tensorflow>=2.10->mediapipe-model-maker) (68.0.0)\n",
      "Requirement already satisfied: six>=1.12.0 in /Users/tim/miniconda3/envs/ml/lib/python3.11/site-packages (from tensorflow-macos==2.14.0->tensorflow>=2.10->mediapipe-model-maker) (1.16.0)\n",
      "Requirement already satisfied: termcolor>=1.1.0 in /Users/tim/miniconda3/envs/ml/lib/python3.11/site-packages (from tensorflow-macos==2.14.0->tensorflow>=2.10->mediapipe-model-maker) (2.3.0)\n",
      "Requirement already satisfied: typing-extensions>=3.6.6 in /Users/tim/miniconda3/envs/ml/lib/python3.11/site-packages (from tensorflow-macos==2.14.0->tensorflow>=2.10->mediapipe-model-maker) (4.8.0)\n",
      "Requirement already satisfied: wrapt<1.15,>=1.11.0 in /Users/tim/miniconda3/envs/ml/lib/python3.11/site-packages (from tensorflow-macos==2.14.0->tensorflow>=2.10->mediapipe-model-maker) (1.14.1)\n",
      "Requirement already satisfied: tensorflow-io-gcs-filesystem>=0.23.1 in /Users/tim/miniconda3/envs/ml/lib/python3.11/site-packages (from tensorflow-macos==2.14.0->tensorflow>=2.10->mediapipe-model-maker) (0.34.0)\n",
      "Requirement already satisfied: grpcio<2.0,>=1.24.3 in /Users/tim/miniconda3/envs/ml/lib/python3.11/site-packages (from tensorflow-macos==2.14.0->tensorflow>=2.10->mediapipe-model-maker) (1.59.0)\n",
      "Requirement already satisfied: tensorboard<2.15,>=2.14 in /Users/tim/miniconda3/envs/ml/lib/python3.11/site-packages (from tensorflow-macos==2.14.0->tensorflow>=2.10->mediapipe-model-maker) (2.14.1)\n",
      "Requirement already satisfied: tensorflow-estimator<2.15,>=2.14.0 in /Users/tim/miniconda3/envs/ml/lib/python3.11/site-packages (from tensorflow-macos==2.14.0->tensorflow>=2.10->mediapipe-model-maker) (2.14.0)\n",
      "Requirement already satisfied: keras<2.15,>=2.14.0 in /Users/tim/miniconda3/envs/ml/lib/python3.11/site-packages (from tensorflow-macos==2.14.0->tensorflow>=2.10->mediapipe-model-maker) (2.14.0)\n",
      "Requirement already satisfied: Cython in /Users/tim/miniconda3/envs/ml/lib/python3.11/site-packages (from tf-models-official>=2.13.1->mediapipe-model-maker) (0.29.36)\n",
      "Requirement already satisfied: Pillow in /Users/tim/miniconda3/envs/ml/lib/python3.11/site-packages (from tf-models-official>=2.13.1->mediapipe-model-maker) (10.0.1)\n",
      "Collecting gin-config (from tf-models-official>=2.13.1->mediapipe-model-maker)\n",
      "  Using cached gin_config-0.5.0-py3-none-any.whl (61 kB)\n",
      "Collecting google-api-python-client>=1.6.7 (from tf-models-official>=2.13.1->mediapipe-model-maker)\n",
      "  Using cached google_api_python_client-2.105.0-py2.py3-none-any.whl.metadata (6.6 kB)\n",
      "Collecting immutabledict (from tf-models-official>=2.13.1->mediapipe-model-maker)\n",
      "  Using cached immutabledict-3.0.0-py3-none-any.whl.metadata (3.1 kB)\n",
      "Collecting kaggle>=1.3.9 (from tf-models-official>=2.13.1->mediapipe-model-maker)\n",
      "  Using cached kaggle-1.5.16.tar.gz (83 kB)\n",
      "  Preparing metadata (setup.py) ... \u001b[?25ldone\n",
      "\u001b[?25hCollecting oauth2client (from tf-models-official>=2.13.1->mediapipe-model-maker)\n",
      "  Using cached oauth2client-4.1.3-py2.py3-none-any.whl (98 kB)\n",
      "Collecting opencv-python-headless (from tf-models-official>=2.13.1->mediapipe-model-maker)\n",
      "  Using cached opencv_python_headless-4.8.1.78-cp37-abi3-macosx_11_0_arm64.whl.metadata (19 kB)\n",
      "Requirement already satisfied: pandas>=0.22.0 in /Users/tim/miniconda3/envs/ml/lib/python3.11/site-packages (from tf-models-official>=2.13.1->mediapipe-model-maker) (2.1.1)\n",
      "Requirement already satisfied: psutil>=5.4.3 in /Users/tim/miniconda3/envs/ml/lib/python3.11/site-packages (from tf-models-official>=2.13.1->mediapipe-model-maker) (5.9.5)\n",
      "Collecting py-cpuinfo>=3.3.0 (from tf-models-official>=2.13.1->mediapipe-model-maker)\n",
      "  Using cached py_cpuinfo-9.0.0-py3-none-any.whl (22 kB)\n",
      "Collecting pycocotools (from tf-models-official>=2.13.1->mediapipe-model-maker)\n",
      "  Using cached pycocotools-2.0.7-cp311-cp311-macosx_10_9_universal2.whl.metadata (1.1 kB)\n",
      "Collecting pyyaml>=6.0.0 (from tf-models-official>=2.13.1->mediapipe-model-maker)\n",
      "  Downloading PyYAML-6.0.1-cp311-cp311-macosx_11_0_arm64.whl.metadata (2.1 kB)\n",
      "Collecting sacrebleu (from tf-models-official>=2.13.1->mediapipe-model-maker)\n",
      "  Using cached sacrebleu-2.3.1-py3-none-any.whl (118 kB)\n",
      "Requirement already satisfied: scipy>=0.19.1 in /Users/tim/miniconda3/envs/ml/lib/python3.11/site-packages (from tf-models-official>=2.13.1->mediapipe-model-maker) (1.11.3)\n",
      "Requirement already satisfied: sentencepiece in /Users/tim/miniconda3/envs/ml/lib/python3.11/site-packages (from tf-models-official>=2.13.1->mediapipe-model-maker) (0.1.99)\n",
      "Collecting seqeval (from tf-models-official>=2.13.1->mediapipe-model-maker)\n",
      "  Using cached seqeval-1.2.2.tar.gz (43 kB)\n",
      "  Preparing metadata (setup.py) ... \u001b[?25ldone\n",
      "\u001b[?25hCollecting tensorflow-model-optimization>=0.4.1 (from tf-models-official>=2.13.1->mediapipe-model-maker)\n",
      "  Using cached tensorflow_model_optimization-0.7.5-py2.py3-none-any.whl.metadata (914 bytes)\n",
      "INFO: pip is looking at multiple versions of tf-models-official to determine which version is compatible with other requirements. This could take a while.\n",
      "Collecting tf-models-official>=2.13.1 (from mediapipe-model-maker)\n",
      "  Using cached tf_models_official-2.14.1-py2.py3-none-any.whl.metadata (1.4 kB)\n",
      "  Using cached tf_models_official-2.14.0-py2.py3-none-any.whl.metadata (1.4 kB)\n",
      "  Using cached tf_models_official-2.13.2-py2.py3-none-any.whl.metadata (1.4 kB)\n",
      "  Using cached tf_models_official-2.13.1-py2.py3-none-any.whl.metadata (1.4 kB)\n",
      "Requirement already satisfied: pyyaml<5.4.0,>=5.1 in /Users/tim/miniconda3/envs/ml/lib/python3.11/site-packages (from tf-models-official>=2.13.1->mediapipe-model-maker) (5.3.1)\n",
      "Collecting mediapipe-model-maker\n",
      "  Using cached mediapipe_model_maker-0.2.1.2-py3-none-any.whl.metadata (1.6 kB)\n",
      "INFO: pip is still looking at multiple versions of tf-models-official to determine which version is compatible with other requirements. This could take a while.\n",
      "  Using cached mediapipe_model_maker-0.2.1.1-py3-none-any.whl.metadata (1.6 kB)\n",
      "INFO: This is taking longer than usual. You might need to provide the dependency resolver with stricter constraints to reduce runtime. See https://pip.pypa.io/warnings/backtracking for guidance. If you want to abort this run, press Ctrl + C.\n",
      "  Using cached mediapipe_model_maker-0.2.1-py3-none-any.whl.metadata (1.6 kB)\n",
      "  Using cached mediapipe_model_maker-0.2.0-py3-none-any.whl (117 kB)\n",
      "Collecting tf-models-official==2.11.6 (from mediapipe-model-maker)\n",
      "  Using cached tf_models_official-2.11.6-py2.py3-none-any.whl (2.4 MB)\n",
      "Collecting mediapipe-model-maker\n",
      "  Downloading mediapipe_model_maker-0.1.1.1-py3-none-any.whl (106 kB)\n",
      "\u001b[2K     \u001b[38;2;114;156;31m━━━━━━━━━━━━━━━━━━━━━━━━━━━━━━━━━━━━━━━\u001b[0m \u001b[32m106.3/106.3 kB\u001b[0m \u001b[31m2.4 MB/s\u001b[0m eta \u001b[36m0:00:00\u001b[0m[31m3.6 MB/s\u001b[0m eta \u001b[36m0:00:01\u001b[0m\n",
      "\u001b[?25hINFO: pip is looking at multiple versions of mediapipe-model-maker to determine which version is compatible with other requirements. This could take a while.\n",
      "  Downloading mediapipe_model_maker-0.1.1.0-py3-none-any.whl (106 kB)\n",
      "\u001b[2K     \u001b[38;2;114;156;31m━━━━━━━━━━━━━━━━━━━━━━━━━━━━━━━━━━━━━━━\u001b[0m \u001b[32m106.3/106.3 kB\u001b[0m \u001b[31m3.1 MB/s\u001b[0m eta \u001b[36m0:00:00\u001b[0m\n",
      "\u001b[?25h  Downloading mediapipe_model_maker-0.1.0.2-py3-none-any.whl (7.2 MB)\n",
      "\u001b[2K     \u001b[38;2;114;156;31m━━━━━━━━━━━━━━━━━━━━━━━━━━━━━━━━━━━━━━━━\u001b[0m \u001b[32m7.2/7.2 MB\u001b[0m \u001b[31m4.3 MB/s\u001b[0m eta \u001b[36m0:00:00\u001b[0mm eta \u001b[36m0:00:01\u001b[0m0:01\u001b[0m:01\u001b[0m\n",
      "\u001b[?25h  Downloading mediapipe_model_maker-0.1.0.1-py3-none-any.whl (7.2 MB)\n",
      "\u001b[2K     \u001b[38;2;114;156;31m━━━━━━━━━━━━━━━━━━━━━━━━━━━━━━━━━━━━━━━━\u001b[0m \u001b[32m7.2/7.2 MB\u001b[0m \u001b[31m6.8 MB/s\u001b[0m eta \u001b[36m0:00:00\u001b[0mm eta \u001b[36m0:00:01\u001b[0m0:01\u001b[0m:01\u001b[0mm\n",
      "\u001b[?25hCollecting tf-models-official>=2.10.1 (from mediapipe-model-maker)\n",
      "  Downloading tf_models_official-2.13.0-py2.py3-none-any.whl.metadata (1.4 kB)\n",
      "  Downloading tf_models_official-2.12.1-py2.py3-none-any.whl.metadata (1.5 kB)\n",
      "  Downloading tf_models_official-2.12.0-py2.py3-none-any.whl (2.6 MB)\n",
      "\u001b[2K     \u001b[38;2;114;156;31m━━━━━━━━━━━━━━━━━━━━━━━━━━━━━━━━━━━━━━━━\u001b[0m \u001b[32m2.6/2.6 MB\u001b[0m \u001b[31m8.0 MB/s\u001b[0m eta \u001b[36m0:00:00\u001b[0mm eta \u001b[36m0:00:01\u001b[0m[36m0:00:01\u001b[0mm\n",
      "\u001b[?25h  Downloading tf_models_official-2.11.5-py2.py3-none-any.whl (2.4 MB)\n",
      "\u001b[2K     \u001b[38;2;114;156;31m━━━━━━━━━━━━━━━━━━━━━━━━━━━━━━━━━━━━━━━━\u001b[0m \u001b[32m2.4/2.4 MB\u001b[0m \u001b[31m9.3 MB/s\u001b[0m eta \u001b[36m0:00:00\u001b[0m[31m9.7 MB/s\u001b[0m eta \u001b[36m0:00:01\u001b[0mm\n",
      "\u001b[?25h  Downloading tf_models_official-2.11.4-py2.py3-none-any.whl (2.4 MB)\n",
      "\u001b[2K     \u001b[38;2;114;156;31m━━━━━━━━━━━━━━━━━━━━━━━━━━━━━━━━━━━━━━━━\u001b[0m \u001b[32m2.4/2.4 MB\u001b[0m \u001b[31m10.0 MB/s\u001b[0m eta \u001b[36m0:00:00\u001b[0mm eta \u001b[36m0:00:01\u001b[0m0:01\u001b[0m01\u001b[0mm\n",
      "\u001b[?25h  Downloading tf_models_official-2.11.3-py2.py3-none-any.whl (2.3 MB)\n",
      "\u001b[2K     \u001b[38;2;114;156;31m━━━━━━━━━━━━━━━━━━━━━━━━━━━━━━━━━━━━━━━━\u001b[0m \u001b[32m2.3/2.3 MB\u001b[0m \u001b[31m9.0 MB/s\u001b[0m eta \u001b[36m0:00:00\u001b[0m[31m10.6 MB/s\u001b[0m eta \u001b[36m0:00:01\u001b[0m\n",
      "\u001b[?25h  Downloading tf_models_official-2.11.2-py2.py3-none-any.whl (2.3 MB)\n",
      "\u001b[2K     \u001b[38;2;114;156;31m━━━━━━━━━━━━━━━━━━━━━━━━━━━━━━━━━━━━━━━━\u001b[0m \u001b[32m2.3/2.3 MB\u001b[0m \u001b[31m9.9 MB/s\u001b[0m eta \u001b[36m0:00:00\u001b[0m0m eta \u001b[36m0:00:01\u001b[0m36m0:00:01\u001b[0mm\n",
      "\u001b[?25h  Downloading tf_models_official-2.11.0-py2.py3-none-any.whl (2.3 MB)\n",
      "\u001b[2K     \u001b[38;2;114;156;31m━━━━━━━━━━━━━━━━━━━━━━━━━━━━━━━━━━━━━━━━\u001b[0m \u001b[32m2.3/2.3 MB\u001b[0m \u001b[31m11.8 MB/s\u001b[0m eta \u001b[36m0:00:00\u001b[0mm eta \u001b[36m0:00:01\u001b[0m[36m0:00:01\u001b[0m\n",
      "\u001b[?25h  Downloading tf_models_official-2.10.1-py2.py3-none-any.whl (2.2 MB)\n",
      "\u001b[2K     \u001b[38;2;114;156;31m━━━━━━━━━━━━━━━━━━━━━━━━━━━━━━━━━━━━━━━━\u001b[0m \u001b[32m2.2/2.2 MB\u001b[0m \u001b[31m10.7 MB/s\u001b[0m eta \u001b[36m0:00:00\u001b[0m31m11.2 MB/s\u001b[0m eta \u001b[36m0:00:01\u001b[0m\n",
      "\u001b[?25hCollecting sacrebleu==2.2.0 (from tf-models-official>=2.10.1->mediapipe-model-maker)\n",
      "  Downloading sacrebleu-2.2.0-py3-none-any.whl (116 kB)\n",
      "\u001b[2K     \u001b[38;2;114;156;31m━━━━━━━━━━━━━━━━━━━━━━━━━━━━━━━━━━━━━━━\u001b[0m \u001b[32m116.6/116.6 kB\u001b[0m \u001b[31m6.7 MB/s\u001b[0m eta \u001b[36m0:00:00\u001b[0m\n",
      "\u001b[?25hCollecting mediapipe-model-maker\n",
      "  Downloading mediapipe_model_maker-0.1.0-py3-none-any.whl (7.0 MB)\n",
      "\u001b[2K     \u001b[38;2;114;156;31m━━━━━━━━━━━━━━━━━━━━━━━━━━━━━━━━━━━━━━━━\u001b[0m \u001b[32m7.0/7.0 MB\u001b[0m \u001b[31m2.6 MB/s\u001b[0m eta \u001b[36m0:00:00\u001b[0m[36m0:00:01\u001b[0mm eta \u001b[36m0:00:01\u001b[0mm\n",
      "\u001b[?25hCollecting tf-models-official>=2.10 (from mediapipe-model-maker)\n",
      "  Downloading tf_models_official-2.10.0-py2.py3-none-any.whl (2.2 MB)\n",
      "\u001b[2K     \u001b[38;2;114;156;31m━━━━━━━━━━━━━━━━━━━━━━━━━━━━━━━━━━━━━━━━\u001b[0m \u001b[32m2.2/2.2 MB\u001b[0m \u001b[31m3.3 MB/s\u001b[0m eta \u001b[36m0:00:00\u001b[0m MB/s\u001b[0m eta \u001b[36m0:00:01\u001b[0m:01\u001b[0mm\n",
      "\u001b[?25hINFO: pip is still looking at multiple versions of mediapipe-model-maker to determine which version is compatible with other requirements. This could take a while.\n",
      "\u001b[31mERROR: Cannot install mediapipe-model-maker==0.1.0.2, mediapipe-model-maker==0.1.1.0 and mediapipe-model-maker==0.1.1.1 because these package versions have conflicting dependencies.\u001b[0m\u001b[31m\n",
      "\u001b[0m\n",
      "The conflict is caused by:\n",
      "    mediapipe-model-maker 0.1.1.1 depends on mediapipe==0.9.2.1\n",
      "    mediapipe-model-maker 0.1.1.0 depends on mediapipe==0.9.2.1\n",
      "    mediapipe-model-maker 0.1.0.2 depends on mediapipe==0.9.0.1\n",
      "\n",
      "To fix this you could try to:\n",
      "1. loosen the range of package versions you've specified\n",
      "2. remove package versions to allow pip attempt to solve the dependency conflict\n",
      "\n",
      "\u001b[31mERROR: ResolutionImpossible: for help visit https://pip.pypa.io/en/latest/topics/dependency-resolution/#dealing-with-dependency-conflicts\u001b[0m\u001b[31m\n",
      "\u001b[0m"
     ]
    }
   ],
   "source": [
    "!pip install --upgrade pip\n",
    "!pip install pyyaml==5.3.1\n",
    "!pip install mediapipe-model-maker"
   ]
  },
  {
   "cell_type": "code",
   "execution_count": 11,
   "metadata": {},
   "outputs": [],
   "source": [
    "import os"
   ]
  },
  {
   "cell_type": "code",
   "execution_count": 12,
   "metadata": {},
   "outputs": [
    {
     "data": {
      "text/plain": [
       "['right',\n",
       " 'forward-samples',\n",
       " 'backward-samples',\n",
       " 'backward',\n",
       " 'left-samples',\n",
       " '.DS_Store',\n",
       " 'right-samples',\n",
       " 'left',\n",
       " 'none-samples',\n",
       " 'none',\n",
       " 'forward']"
      ]
     },
     "execution_count": 12,
     "metadata": {},
     "output_type": "execute_result"
    }
   ],
   "source": [
    "os.listdir('dataset')"
   ]
  },
  {
   "cell_type": "code",
   "execution_count": 13,
   "metadata": {},
   "outputs": [],
   "source": [
    "LABELS = ['left', 'right','forward','backward','none']"
   ]
  },
  {
   "cell_type": "code",
   "execution_count": 29,
   "metadata": {},
   "outputs": [],
   "source": [
    "for label in ['backward']:\n",
    "    idx = max([int(file.replace('.jpg','')) for file in os.listdir(f\"dataset/{label}\")])\n",
    "\n",
    "    for file in os.listdir(f\"dataset/{label}-samples\"):\n",
    "        idx = idx + 1\n",
    "        os.rename(f\"dataset/{label}-samples/{file}\", f\"dataset/{label}/{idx}.jpg\")"
   ]
  },
  {
   "cell_type": "code",
   "execution_count": 23,
   "metadata": {},
   "outputs": [],
   "source": [
    "os.remove(f\"dataset/left/229.jpg\")"
   ]
  },
  {
   "cell_type": "markdown",
   "metadata": {
    "id": "Z-9BpIlqAZci"
   },
   "source": [
    "Project: /mediapipe/_project.yaml\n",
    "Book: /mediapipe/_book.yaml\n",
    "\n",
    "<link rel=\"stylesheet\" href=\"/mediapipe/site.css\">\n",
    "\n",
    "# Hand gesture recognition model customization guide\n",
    "\n",
    "<table align=\"left\" class=\"buttons\">\n",
    "  <td>\n",
    "    <a href=\"https://colab.research.google.com/github/googlesamples/mediapipe/blob/main/examples/customization/gesture_recognizer.ipynb\" target=\"_blank\">\n",
    "      <img src=\"https://developers.google.com/static/mediapipe/solutions/customization/colab-logo-32px_1920.png\" alt=\"Colab logo\"> Run in Colab\n",
    "    </a>\n",
    "  </td>\n",
    "\n",
    "  <td>\n",
    "    <a href=\"https://github.com/googlesamples/mediapipe/blob/main/examples/customization/gesture_recognizer.ipynb\" target=\"_blank\">\n",
    "      <img src=\"https://developers.google.com/static/mediapipe/solutions/customization/github-logo-32px_1920.png\" alt=\"GitHub logo\">\n",
    "      View on GitHub\n",
    "    </a>\n",
    "  </td>\n",
    "</table>"
   ]
  },
  {
   "cell_type": "code",
   "execution_count": null,
   "metadata": {
    "id": "JO1GUwC1_T2x"
   },
   "outputs": [],
   "source": [
    "#@title License information\n",
    "# Copyright 2023 The MediaPipe Authors.\n",
    "# Licensed under the Apache License, Version 2.0 (the \"License\");\n",
    "#\n",
    "# you may not use this file except in compliance with the License.\n",
    "# You may obtain a copy of the License at\n",
    "#\n",
    "# https://www.apache.org/licenses/LICENSE-2.0\n",
    "#\n",
    "# Unless required by applicable law or agreed to in writing, software\n",
    "# distributed under the License is distributed on an \"AS IS\" BASIS,\n",
    "# WITHOUT WARRANTIES OR CONDITIONS OF ANY KIND, either express or implied.\n",
    "# See the License for the specific language governing permissions and\n",
    "# limitations under the License."
   ]
  },
  {
   "cell_type": "markdown",
   "metadata": {
    "id": "wFBcmjzf0JLE"
   },
   "source": [
    "The MediaPipe Model Maker package is a low-code solution for customizing on-device machine learning (ML) Models.\n",
    "\n",
    "This notebook shows the end-to-end process of customizing a gesture recognizer model for recognizing some common hand gestures in the [HaGRID](https://www.kaggle.com/datasets/innominate817/hagrid-sample-30k-384p) dataset."
   ]
  },
  {
   "cell_type": "markdown",
   "metadata": {
    "id": "YGM0PT490LiR"
   },
   "source": [
    "## Prerequisites"
   ]
  },
  {
   "cell_type": "markdown",
   "metadata": {
    "id": "cVVxZNfo0M0y"
   },
   "source": [
    "Install the MediaPipe Model Maker package."
   ]
  },
  {
   "cell_type": "code",
   "execution_count": 10,
   "metadata": {
    "id": "6DBLRE-fqlO5",
    "scrolled": true
   },
   "outputs": [
    {
     "name": "stdout",
     "output_type": "stream",
     "text": [
      "\u001b[31mERROR: Could not find a version that satisfies the requirement mediapipe==0.9.2.1 (from versions: 0.9.3.0, 0.10.0, 0.10.1, 0.10.2, 0.10.3, 0.10.5, 0.10.7)\u001b[0m\n",
      "\u001b[31mERROR: No matching distribution found for mediapipe==0.9.2.1\u001b[0m\n",
      "\u001b[33mWARNING: You are using pip version 21.3.1; however, version 23.3.1 is available.\n",
      "You should consider upgrading via the '/Users/tim/miniconda3/envs/ml/bin/python -m pip install --upgrade pip' command.\u001b[0m\n",
      "Collecting mediapipe-model-maker\n",
      "  Using cached mediapipe_model_maker-0.2.1.3-py3-none-any.whl (127 kB)\n",
      "Requirement already satisfied: tensorflow>=2.10 in /Users/tim/miniconda3/envs/ml/lib/python3.11/site-packages (from mediapipe-model-maker) (2.14.0)\n",
      "Collecting tensorflow-hub\n",
      "  Using cached tensorflow_hub-0.15.0-py2.py3-none-any.whl (85 kB)\n",
      "Collecting tensorflow-datasets\n",
      "  Using cached tensorflow_datasets-4.9.3-py3-none-any.whl (5.0 MB)\n",
      "Requirement already satisfied: absl-py in /Users/tim/miniconda3/envs/ml/lib/python3.11/site-packages (from mediapipe-model-maker) (2.0.0)\n",
      "Collecting tensorflow-addons\n",
      "  Using cached tensorflow_addons-0.22.0-cp311-cp311-macosx_11_0_arm64.whl (12.3 MB)\n",
      "Requirement already satisfied: opencv-python in /Users/tim/miniconda3/envs/ml/lib/python3.11/site-packages (from mediapipe-model-maker) (4.8.1.78)\n",
      "Requirement already satisfied: mediapipe>=0.10.0 in /Users/tim/miniconda3/envs/ml/lib/python3.11/site-packages (from mediapipe-model-maker) (0.10.5)\n",
      "Collecting tf-models-official>=2.13.1\n",
      "  Using cached tf_models_official-2.14.2-py2.py3-none-any.whl (2.7 MB)\n",
      "Requirement already satisfied: numpy in /Users/tim/miniconda3/envs/ml/lib/python3.11/site-packages (from mediapipe-model-maker) (1.26.0)\n",
      "Requirement already satisfied: matplotlib in /Users/tim/miniconda3/envs/ml/lib/python3.11/site-packages (from mediapipe>=0.10.0->mediapipe-model-maker) (3.8.0)\n",
      "Requirement already satisfied: opencv-contrib-python in /Users/tim/miniconda3/envs/ml/lib/python3.11/site-packages (from mediapipe>=0.10.0->mediapipe-model-maker) (4.8.1.78)\n",
      "Requirement already satisfied: attrs>=19.1.0 in /Users/tim/miniconda3/envs/ml/lib/python3.11/site-packages (from mediapipe>=0.10.0->mediapipe-model-maker) (23.1.0)\n",
      "Requirement already satisfied: flatbuffers>=2.0 in /Users/tim/miniconda3/envs/ml/lib/python3.11/site-packages (from mediapipe>=0.10.0->mediapipe-model-maker) (23.5.26)\n",
      "Requirement already satisfied: protobuf<4,>=3.11 in /Users/tim/miniconda3/envs/ml/lib/python3.11/site-packages (from mediapipe>=0.10.0->mediapipe-model-maker) (3.20.3)\n",
      "Requirement already satisfied: sounddevice>=0.4.4 in /Users/tim/miniconda3/envs/ml/lib/python3.11/site-packages (from mediapipe>=0.10.0->mediapipe-model-maker) (0.4.6)\n",
      "Requirement already satisfied: tensorflow-macos==2.14.0 in /Users/tim/miniconda3/envs/ml/lib/python3.11/site-packages (from tensorflow>=2.10->mediapipe-model-maker) (2.14.0)\n",
      "Requirement already satisfied: packaging in /Users/tim/miniconda3/envs/ml/lib/python3.11/site-packages (from tensorflow-macos==2.14.0->tensorflow>=2.10->mediapipe-model-maker) (23.1)\n",
      "Requirement already satisfied: libclang>=13.0.0 in /Users/tim/miniconda3/envs/ml/lib/python3.11/site-packages (from tensorflow-macos==2.14.0->tensorflow>=2.10->mediapipe-model-maker) (16.0.6)\n",
      "Requirement already satisfied: wrapt<1.15,>=1.11.0 in /Users/tim/miniconda3/envs/ml/lib/python3.11/site-packages (from tensorflow-macos==2.14.0->tensorflow>=2.10->mediapipe-model-maker) (1.14.1)\n",
      "Requirement already satisfied: termcolor>=1.1.0 in /Users/tim/miniconda3/envs/ml/lib/python3.11/site-packages (from tensorflow-macos==2.14.0->tensorflow>=2.10->mediapipe-model-maker) (2.3.0)\n",
      "Requirement already satisfied: h5py>=2.9.0 in /Users/tim/miniconda3/envs/ml/lib/python3.11/site-packages (from tensorflow-macos==2.14.0->tensorflow>=2.10->mediapipe-model-maker) (3.9.0)\n",
      "Requirement already satisfied: typing-extensions>=3.6.6 in /Users/tim/miniconda3/envs/ml/lib/python3.11/site-packages (from tensorflow-macos==2.14.0->tensorflow>=2.10->mediapipe-model-maker) (4.8.0)\n",
      "Requirement already satisfied: tensorflow-estimator<2.15,>=2.14.0 in /Users/tim/miniconda3/envs/ml/lib/python3.11/site-packages (from tensorflow-macos==2.14.0->tensorflow>=2.10->mediapipe-model-maker) (2.14.0)\n",
      "Requirement already satisfied: ml-dtypes==0.2.0 in /Users/tim/miniconda3/envs/ml/lib/python3.11/site-packages (from tensorflow-macos==2.14.0->tensorflow>=2.10->mediapipe-model-maker) (0.2.0)\n",
      "Requirement already satisfied: gast!=0.5.0,!=0.5.1,!=0.5.2,>=0.2.1 in /Users/tim/miniconda3/envs/ml/lib/python3.11/site-packages (from tensorflow-macos==2.14.0->tensorflow>=2.10->mediapipe-model-maker) (0.5.4)\n",
      "Requirement already satisfied: setuptools in /Users/tim/miniconda3/envs/ml/lib/python3.11/site-packages (from tensorflow-macos==2.14.0->tensorflow>=2.10->mediapipe-model-maker) (68.0.0)\n",
      "Requirement already satisfied: google-pasta>=0.1.1 in /Users/tim/miniconda3/envs/ml/lib/python3.11/site-packages (from tensorflow-macos==2.14.0->tensorflow>=2.10->mediapipe-model-maker) (0.2.0)\n",
      "Requirement already satisfied: keras<2.15,>=2.14.0 in /Users/tim/miniconda3/envs/ml/lib/python3.11/site-packages (from tensorflow-macos==2.14.0->tensorflow>=2.10->mediapipe-model-maker) (2.14.0)\n",
      "Requirement already satisfied: tensorflow-io-gcs-filesystem>=0.23.1 in /Users/tim/miniconda3/envs/ml/lib/python3.11/site-packages (from tensorflow-macos==2.14.0->tensorflow>=2.10->mediapipe-model-maker) (0.34.0)\n",
      "Requirement already satisfied: tensorboard<2.15,>=2.14 in /Users/tim/miniconda3/envs/ml/lib/python3.11/site-packages (from tensorflow-macos==2.14.0->tensorflow>=2.10->mediapipe-model-maker) (2.14.1)\n",
      "Requirement already satisfied: opt-einsum>=2.3.2 in /Users/tim/miniconda3/envs/ml/lib/python3.11/site-packages (from tensorflow-macos==2.14.0->tensorflow>=2.10->mediapipe-model-maker) (3.3.0)\n",
      "Requirement already satisfied: astunparse>=1.6.0 in /Users/tim/miniconda3/envs/ml/lib/python3.11/site-packages (from tensorflow-macos==2.14.0->tensorflow>=2.10->mediapipe-model-maker) (1.6.3)\n",
      "Requirement already satisfied: grpcio<2.0,>=1.24.3 in /Users/tim/miniconda3/envs/ml/lib/python3.11/site-packages (from tensorflow-macos==2.14.0->tensorflow>=2.10->mediapipe-model-maker) (1.59.0)\n",
      "Requirement already satisfied: six>=1.12.0 in /Users/tim/miniconda3/envs/ml/lib/python3.11/site-packages (from tensorflow-macos==2.14.0->tensorflow>=2.10->mediapipe-model-maker) (1.16.0)\n",
      "Requirement already satisfied: scipy>=0.19.1 in /Users/tim/miniconda3/envs/ml/lib/python3.11/site-packages (from tf-models-official>=2.13.1->mediapipe-model-maker) (1.11.3)\n",
      "Collecting sacrebleu\n",
      "  Using cached sacrebleu-2.3.1-py3-none-any.whl (118 kB)\n",
      "Collecting tf-models-official>=2.13.1\n",
      "  Using cached tf_models_official-2.14.1-py2.py3-none-any.whl (2.7 MB)\n",
      "  Using cached tf_models_official-2.14.0-py2.py3-none-any.whl (2.7 MB)\n",
      "  Using cached tf_models_official-2.13.2-py2.py3-none-any.whl (2.6 MB)\n",
      "Collecting tensorflow>=2.10\n",
      "  Using cached tensorflow-2.13.1-cp311-cp311-macosx_12_0_arm64.whl (1.9 kB)\n",
      "Collecting tensorflow-model-optimization>=0.4.1\n",
      "  Using cached tensorflow_model_optimization-0.7.5-py2.py3-none-any.whl (241 kB)\n",
      "Collecting tf-slim>=1.1.0\n",
      "  Using cached tf_slim-1.1.0-py2.py3-none-any.whl (352 kB)\n",
      "Collecting opencv-python-headless\n",
      "  Using cached opencv_python_headless-4.8.1.78-cp37-abi3-macosx_11_0_arm64.whl (33.1 MB)\n",
      "Collecting immutabledict\n",
      "  Using cached immutabledict-3.0.0-py3-none-any.whl (4.0 kB)\n",
      "Requirement already satisfied: psutil>=5.4.3 in /Users/tim/miniconda3/envs/ml/lib/python3.11/site-packages (from tf-models-official>=2.13.1->mediapipe-model-maker) (5.9.5)\n",
      "Collecting seqeval\n",
      "  Using cached seqeval-1.2.2.tar.gz (43 kB)\n",
      "  Preparing metadata (setup.py) ... \u001b[?25ldone\n",
      "\u001b[?25hCollecting google-api-python-client>=1.6.7\n",
      "  Using cached google_api_python_client-2.105.0-py2.py3-none-any.whl (12.6 MB)\n",
      "Collecting py-cpuinfo>=3.3.0\n",
      "  Using cached py_cpuinfo-9.0.0-py3-none-any.whl (22 kB)\n",
      "Requirement already satisfied: sentencepiece in /Users/tim/miniconda3/envs/ml/lib/python3.11/site-packages (from tf-models-official>=2.13.1->mediapipe-model-maker) (0.1.99)\n",
      "Requirement already satisfied: Pillow in /Users/tim/miniconda3/envs/ml/lib/python3.11/site-packages (from tf-models-official>=2.13.1->mediapipe-model-maker) (10.0.1)\n",
      "Collecting tf-models-official>=2.13.1\n",
      "  Using cached tf_models_official-2.13.1-py2.py3-none-any.whl (2.6 MB)\n",
      "INFO: pip is looking at multiple versions of numpy to determine which version is compatible with other requirements. This could take a while.\n",
      "Collecting numpy\n",
      "  Using cached numpy-1.26.1-cp311-cp311-macosx_11_0_arm64.whl (14.0 MB)\n",
      "INFO: pip is looking at multiple versions of absl-py to determine which version is compatible with other requirements. This could take a while.\n",
      "Collecting absl-py\n",
      "  Using cached absl_py-2.0.0-py3-none-any.whl (130 kB)\n",
      "INFO: pip is looking at multiple versions of ml-dtypes to determine which version is compatible with other requirements. This could take a while.\n",
      "Collecting ml-dtypes==0.2.0\n",
      "  Using cached ml_dtypes-0.2.0-cp311-cp311-macosx_10_9_universal2.whl (1.2 MB)\n",
      "INFO: pip is looking at multiple versions of <Python from Requires-Python> to determine which version is compatible with other requirements. This could take a while.\n",
      "INFO: pip is looking at multiple versions of tensorflow-macos to determine which version is compatible with other requirements. This could take a while.\n",
      "Collecting tensorflow-macos==2.14.0\n",
      "  Using cached tensorflow_macos-2.14.0-cp311-cp311-macosx_12_0_arm64.whl (199.7 MB)\n",
      "INFO: pip is looking at multiple versions of tensorflow to determine which version is compatible with other requirements. This could take a while.\n",
      "Collecting tensorflow>=2.10\n",
      "  Using cached tensorflow-2.14.0-cp311-cp311-macosx_12_0_arm64.whl (2.1 kB)\n",
      "INFO: pip is looking at multiple versions of mediapipe to determine which version is compatible with other requirements. This could take a while.\n",
      "Collecting mediapipe>=0.10.0\n",
      "  Using cached mediapipe-0.10.7-cp311-cp311-macosx_11_0_universal2.whl (53.8 MB)\n",
      "INFO: pip is looking at multiple versions of mediapipe-model-maker to determine which version is compatible with other requirements. This could take a while.\n",
      "Collecting mediapipe-model-maker\n",
      "  Using cached mediapipe_model_maker-0.2.1.2-py3-none-any.whl (127 kB)\n",
      "  Using cached mediapipe_model_maker-0.2.1.1-py3-none-any.whl (127 kB)\n",
      "  Using cached mediapipe_model_maker-0.2.1-py3-none-any.whl (127 kB)\n",
      "  Using cached mediapipe_model_maker-0.2.0-py3-none-any.whl (117 kB)\n",
      "Collecting tf-models-official==2.11.6\n",
      "  Using cached tf_models_official-2.11.6-py2.py3-none-any.whl (2.4 MB)\n",
      "Collecting mediapipe-model-maker\n",
      "  Using cached mediapipe_model_maker-0.1.1.1-py3-none-any.whl (106 kB)\n",
      "  Using cached mediapipe_model_maker-0.1.1.0-py3-none-any.whl (106 kB)\n",
      "  Using cached mediapipe_model_maker-0.1.0.2-py3-none-any.whl (7.2 MB)\n",
      "  Using cached mediapipe_model_maker-0.1.0.1-py3-none-any.whl (7.2 MB)\n",
      "Collecting tf-models-official>=2.10.1\n",
      "  Using cached tf_models_official-2.13.0-py2.py3-none-any.whl (2.6 MB)\n",
      "Collecting pyyaml<6.0,>=5.1\n",
      "  Using cached PyYAML-5.4.1.tar.gz (175 kB)\n",
      "  Installing build dependencies ... \u001b[?25ldone\n",
      "\u001b[?25h  Getting requirements to build wheel ... \u001b[?25lerror\n",
      "\u001b[31m  ERROR: Command errored out with exit status 1:\n",
      "   command: /Users/tim/miniconda3/envs/ml/bin/python /Users/tim/miniconda3/envs/ml/lib/python3.11/site-packages/pip/_vendor/pep517/in_process/_in_process.py get_requires_for_build_wheel /var/folders/8w/29spy7853c158mzf537dcy800000gn/T/tmpjiq8q5ji\n",
      "       cwd: /private/var/folders/8w/29spy7853c158mzf537dcy800000gn/T/pip-install-ubmcmkp7/pyyaml_cc37265d88a5439abb365e04c4e0507c\n",
      "  Complete output (68 lines):\n",
      "  /private/var/folders/8w/29spy7853c158mzf537dcy800000gn/T/pip-build-env-kl3bczoh/overlay/lib/python3.11/site-packages/setuptools/config/setupcfg.py:293: _DeprecatedConfig: Deprecated config in `setup.cfg`\n",
      "  !!\n",
      "  \n",
      "          ********************************************************************************\n",
      "          The license_file parameter is deprecated, use license_files instead.\n",
      "  \n",
      "          By 2023-Oct-30, you need to update your project and remove deprecated calls\n",
      "          or your builds will no longer be supported.\n",
      "  \n",
      "          See https://setuptools.pypa.io/en/latest/userguide/declarative_config.html for details.\n",
      "          ********************************************************************************\n",
      "  \n",
      "  !!\n",
      "    parsed = self.parsers.get(option_name, lambda x: x)(value)\n",
      "  running egg_info\n",
      "  writing lib3/PyYAML.egg-info/PKG-INFO\n",
      "  writing dependency_links to lib3/PyYAML.egg-info/dependency_links.txt\n",
      "  writing top-level names to lib3/PyYAML.egg-info/top_level.txt\n",
      "  Traceback (most recent call last):\n",
      "    File \"/Users/tim/miniconda3/envs/ml/lib/python3.11/site-packages/pip/_vendor/pep517/in_process/_in_process.py\", line 363, in <module>\n",
      "      main()\n",
      "    File \"/Users/tim/miniconda3/envs/ml/lib/python3.11/site-packages/pip/_vendor/pep517/in_process/_in_process.py\", line 345, in main\n",
      "      json_out['return_val'] = hook(**hook_input['kwargs'])\n",
      "                               ^^^^^^^^^^^^^^^^^^^^^^^^^^^^\n",
      "    File \"/Users/tim/miniconda3/envs/ml/lib/python3.11/site-packages/pip/_vendor/pep517/in_process/_in_process.py\", line 130, in get_requires_for_build_wheel\n",
      "      return hook(config_settings)\n",
      "             ^^^^^^^^^^^^^^^^^^^^^\n",
      "    File \"/private/var/folders/8w/29spy7853c158mzf537dcy800000gn/T/pip-build-env-kl3bczoh/overlay/lib/python3.11/site-packages/setuptools/build_meta.py\", line 355, in get_requires_for_build_wheel\n",
      "      return self._get_build_requires(config_settings, requirements=['wheel'])\n",
      "             ^^^^^^^^^^^^^^^^^^^^^^^^^^^^^^^^^^^^^^^^^^^^^^^^^^^^^^^^^^^^^^^^^\n",
      "    File \"/private/var/folders/8w/29spy7853c158mzf537dcy800000gn/T/pip-build-env-kl3bczoh/overlay/lib/python3.11/site-packages/setuptools/build_meta.py\", line 325, in _get_build_requires\n",
      "      self.run_setup()\n",
      "    File \"/private/var/folders/8w/29spy7853c158mzf537dcy800000gn/T/pip-build-env-kl3bczoh/overlay/lib/python3.11/site-packages/setuptools/build_meta.py\", line 341, in run_setup\n",
      "      exec(code, locals())\n",
      "    File \"<string>\", line 271, in <module>\n",
      "    File \"/private/var/folders/8w/29spy7853c158mzf537dcy800000gn/T/pip-build-env-kl3bczoh/overlay/lib/python3.11/site-packages/setuptools/__init__.py\", line 103, in setup\n",
      "      return distutils.core.setup(**attrs)\n",
      "             ^^^^^^^^^^^^^^^^^^^^^^^^^^^^^\n",
      "    File \"/private/var/folders/8w/29spy7853c158mzf537dcy800000gn/T/pip-build-env-kl3bczoh/overlay/lib/python3.11/site-packages/setuptools/_distutils/core.py\", line 185, in setup\n",
      "      return run_commands(dist)\n",
      "             ^^^^^^^^^^^^^^^^^^\n",
      "    File \"/private/var/folders/8w/29spy7853c158mzf537dcy800000gn/T/pip-build-env-kl3bczoh/overlay/lib/python3.11/site-packages/setuptools/_distutils/core.py\", line 201, in run_commands\n",
      "      dist.run_commands()\n",
      "    File \"/private/var/folders/8w/29spy7853c158mzf537dcy800000gn/T/pip-build-env-kl3bczoh/overlay/lib/python3.11/site-packages/setuptools/_distutils/dist.py\", line 969, in run_commands\n",
      "      self.run_command(cmd)\n",
      "    File \"/private/var/folders/8w/29spy7853c158mzf537dcy800000gn/T/pip-build-env-kl3bczoh/overlay/lib/python3.11/site-packages/setuptools/dist.py\", line 989, in run_command\n",
      "      super().run_command(command)\n",
      "    File \"/private/var/folders/8w/29spy7853c158mzf537dcy800000gn/T/pip-build-env-kl3bczoh/overlay/lib/python3.11/site-packages/setuptools/_distutils/dist.py\", line 988, in run_command\n",
      "      cmd_obj.run()\n",
      "    File \"/private/var/folders/8w/29spy7853c158mzf537dcy800000gn/T/pip-build-env-kl3bczoh/overlay/lib/python3.11/site-packages/setuptools/command/egg_info.py\", line 318, in run\n",
      "      self.find_sources()\n",
      "    File \"/private/var/folders/8w/29spy7853c158mzf537dcy800000gn/T/pip-build-env-kl3bczoh/overlay/lib/python3.11/site-packages/setuptools/command/egg_info.py\", line 326, in find_sources\n",
      "      mm.run()\n",
      "    File \"/private/var/folders/8w/29spy7853c158mzf537dcy800000gn/T/pip-build-env-kl3bczoh/overlay/lib/python3.11/site-packages/setuptools/command/egg_info.py\", line 548, in run\n",
      "      self.add_defaults()\n",
      "    File \"/private/var/folders/8w/29spy7853c158mzf537dcy800000gn/T/pip-build-env-kl3bczoh/overlay/lib/python3.11/site-packages/setuptools/command/egg_info.py\", line 586, in add_defaults\n",
      "      sdist.add_defaults(self)\n",
      "    File \"/private/var/folders/8w/29spy7853c158mzf537dcy800000gn/T/pip-build-env-kl3bczoh/overlay/lib/python3.11/site-packages/setuptools/command/sdist.py\", line 113, in add_defaults\n",
      "      super().add_defaults()\n",
      "    File \"/private/var/folders/8w/29spy7853c158mzf537dcy800000gn/T/pip-build-env-kl3bczoh/overlay/lib/python3.11/site-packages/setuptools/_distutils/command/sdist.py\", line 251, in add_defaults\n",
      "      self._add_defaults_ext()\n",
      "    File \"/private/var/folders/8w/29spy7853c158mzf537dcy800000gn/T/pip-build-env-kl3bczoh/overlay/lib/python3.11/site-packages/setuptools/_distutils/command/sdist.py\", line 336, in _add_defaults_ext\n",
      "      self.filelist.extend(build_ext.get_source_files())\n",
      "                           ^^^^^^^^^^^^^^^^^^^^^^^^^^^^\n",
      "    File \"<string>\", line 201, in get_source_files\n",
      "    File \"/private/var/folders/8w/29spy7853c158mzf537dcy800000gn/T/pip-build-env-kl3bczoh/overlay/lib/python3.11/site-packages/setuptools/_distutils/cmd.py\", line 107, in __getattr__\n",
      "      raise AttributeError(attr)\n",
      "  AttributeError: cython_sources\n",
      "  ----------------------------------------\u001b[0m\n",
      "\u001b[33mWARNING: Discarding https://files.pythonhosted.org/packages/a0/a4/d63f2d7597e1a4b55aa3b4d6c5b029991d3b824b5bd331af8d4ab1ed687d/PyYAML-5.4.1.tar.gz#sha256=607774cbba28732bfa802b54baa7484215f530991055bb562efbed5b2f20a45e (from https://pypi.org/simple/pyyaml/) (requires-python:>=2.7, !=3.0.*, !=3.1.*, !=3.2.*, !=3.3.*, !=3.4.*, !=3.5.*). Command errored out with exit status 1: /Users/tim/miniconda3/envs/ml/bin/python /Users/tim/miniconda3/envs/ml/lib/python3.11/site-packages/pip/_vendor/pep517/in_process/_in_process.py get_requires_for_build_wheel /var/folders/8w/29spy7853c158mzf537dcy800000gn/T/tmpjiq8q5ji Check the logs for full command output.\u001b[0m\n",
      "\u001b[?25h  Using cached PyYAML-5.4.tar.gz (174 kB)\n",
      "  Installing build dependencies ... \u001b[?25ldone\n",
      "\u001b[?25h  Getting requirements to build wheel ... \u001b[?25lerror\n",
      "\u001b[31m  ERROR: Command errored out with exit status 1:\n",
      "   command: /Users/tim/miniconda3/envs/ml/bin/python /Users/tim/miniconda3/envs/ml/lib/python3.11/site-packages/pip/_vendor/pep517/in_process/_in_process.py get_requires_for_build_wheel /var/folders/8w/29spy7853c158mzf537dcy800000gn/T/tmp7vhhlu58\n",
      "       cwd: /private/var/folders/8w/29spy7853c158mzf537dcy800000gn/T/pip-install-ubmcmkp7/pyyaml_d766d34facfb4eb4bb6ddf9a751639f6\n",
      "  Complete output (68 lines):\n",
      "  /private/var/folders/8w/29spy7853c158mzf537dcy800000gn/T/pip-build-env-u7i33rvf/overlay/lib/python3.11/site-packages/setuptools/config/setupcfg.py:293: _DeprecatedConfig: Deprecated config in `setup.cfg`\n",
      "  !!\n",
      "  \n",
      "          ********************************************************************************\n",
      "          The license_file parameter is deprecated, use license_files instead.\n",
      "  \n",
      "          By 2023-Oct-30, you need to update your project and remove deprecated calls\n",
      "          or your builds will no longer be supported.\n",
      "  \n",
      "          See https://setuptools.pypa.io/en/latest/userguide/declarative_config.html for details.\n",
      "          ********************************************************************************\n",
      "  \n",
      "  !!\n",
      "    parsed = self.parsers.get(option_name, lambda x: x)(value)\n",
      "  running egg_info\n",
      "  writing lib3/PyYAML.egg-info/PKG-INFO\n",
      "  writing dependency_links to lib3/PyYAML.egg-info/dependency_links.txt\n",
      "  writing top-level names to lib3/PyYAML.egg-info/top_level.txt\n",
      "  Traceback (most recent call last):\n",
      "    File \"/Users/tim/miniconda3/envs/ml/lib/python3.11/site-packages/pip/_vendor/pep517/in_process/_in_process.py\", line 363, in <module>\n",
      "      main()\n",
      "    File \"/Users/tim/miniconda3/envs/ml/lib/python3.11/site-packages/pip/_vendor/pep517/in_process/_in_process.py\", line 345, in main\n",
      "      json_out['return_val'] = hook(**hook_input['kwargs'])\n",
      "                               ^^^^^^^^^^^^^^^^^^^^^^^^^^^^\n",
      "    File \"/Users/tim/miniconda3/envs/ml/lib/python3.11/site-packages/pip/_vendor/pep517/in_process/_in_process.py\", line 130, in get_requires_for_build_wheel\n",
      "      return hook(config_settings)\n",
      "             ^^^^^^^^^^^^^^^^^^^^^\n",
      "    File \"/private/var/folders/8w/29spy7853c158mzf537dcy800000gn/T/pip-build-env-u7i33rvf/overlay/lib/python3.11/site-packages/setuptools/build_meta.py\", line 355, in get_requires_for_build_wheel\n",
      "      return self._get_build_requires(config_settings, requirements=['wheel'])\n",
      "             ^^^^^^^^^^^^^^^^^^^^^^^^^^^^^^^^^^^^^^^^^^^^^^^^^^^^^^^^^^^^^^^^^\n",
      "    File \"/private/var/folders/8w/29spy7853c158mzf537dcy800000gn/T/pip-build-env-u7i33rvf/overlay/lib/python3.11/site-packages/setuptools/build_meta.py\", line 325, in _get_build_requires\n",
      "      self.run_setup()\n",
      "    File \"/private/var/folders/8w/29spy7853c158mzf537dcy800000gn/T/pip-build-env-u7i33rvf/overlay/lib/python3.11/site-packages/setuptools/build_meta.py\", line 341, in run_setup\n",
      "      exec(code, locals())\n",
      "    File \"<string>\", line 271, in <module>\n",
      "    File \"/private/var/folders/8w/29spy7853c158mzf537dcy800000gn/T/pip-build-env-u7i33rvf/overlay/lib/python3.11/site-packages/setuptools/__init__.py\", line 103, in setup\n",
      "      return distutils.core.setup(**attrs)\n",
      "             ^^^^^^^^^^^^^^^^^^^^^^^^^^^^^\n",
      "    File \"/private/var/folders/8w/29spy7853c158mzf537dcy800000gn/T/pip-build-env-u7i33rvf/overlay/lib/python3.11/site-packages/setuptools/_distutils/core.py\", line 185, in setup\n",
      "      return run_commands(dist)\n",
      "             ^^^^^^^^^^^^^^^^^^\n",
      "    File \"/private/var/folders/8w/29spy7853c158mzf537dcy800000gn/T/pip-build-env-u7i33rvf/overlay/lib/python3.11/site-packages/setuptools/_distutils/core.py\", line 201, in run_commands\n",
      "      dist.run_commands()\n",
      "    File \"/private/var/folders/8w/29spy7853c158mzf537dcy800000gn/T/pip-build-env-u7i33rvf/overlay/lib/python3.11/site-packages/setuptools/_distutils/dist.py\", line 969, in run_commands\n",
      "      self.run_command(cmd)\n",
      "    File \"/private/var/folders/8w/29spy7853c158mzf537dcy800000gn/T/pip-build-env-u7i33rvf/overlay/lib/python3.11/site-packages/setuptools/dist.py\", line 989, in run_command\n",
      "      super().run_command(command)\n",
      "    File \"/private/var/folders/8w/29spy7853c158mzf537dcy800000gn/T/pip-build-env-u7i33rvf/overlay/lib/python3.11/site-packages/setuptools/_distutils/dist.py\", line 988, in run_command\n",
      "      cmd_obj.run()\n",
      "    File \"/private/var/folders/8w/29spy7853c158mzf537dcy800000gn/T/pip-build-env-u7i33rvf/overlay/lib/python3.11/site-packages/setuptools/command/egg_info.py\", line 318, in run\n",
      "      self.find_sources()\n",
      "    File \"/private/var/folders/8w/29spy7853c158mzf537dcy800000gn/T/pip-build-env-u7i33rvf/overlay/lib/python3.11/site-packages/setuptools/command/egg_info.py\", line 326, in find_sources\n",
      "      mm.run()\n",
      "    File \"/private/var/folders/8w/29spy7853c158mzf537dcy800000gn/T/pip-build-env-u7i33rvf/overlay/lib/python3.11/site-packages/setuptools/command/egg_info.py\", line 548, in run\n",
      "      self.add_defaults()\n",
      "    File \"/private/var/folders/8w/29spy7853c158mzf537dcy800000gn/T/pip-build-env-u7i33rvf/overlay/lib/python3.11/site-packages/setuptools/command/egg_info.py\", line 586, in add_defaults\n",
      "      sdist.add_defaults(self)\n",
      "    File \"/private/var/folders/8w/29spy7853c158mzf537dcy800000gn/T/pip-build-env-u7i33rvf/overlay/lib/python3.11/site-packages/setuptools/command/sdist.py\", line 113, in add_defaults\n",
      "      super().add_defaults()\n",
      "    File \"/private/var/folders/8w/29spy7853c158mzf537dcy800000gn/T/pip-build-env-u7i33rvf/overlay/lib/python3.11/site-packages/setuptools/_distutils/command/sdist.py\", line 251, in add_defaults\n",
      "      self._add_defaults_ext()\n",
      "    File \"/private/var/folders/8w/29spy7853c158mzf537dcy800000gn/T/pip-build-env-u7i33rvf/overlay/lib/python3.11/site-packages/setuptools/_distutils/command/sdist.py\", line 336, in _add_defaults_ext\n",
      "      self.filelist.extend(build_ext.get_source_files())\n",
      "                           ^^^^^^^^^^^^^^^^^^^^^^^^^^^^\n",
      "    File \"<string>\", line 201, in get_source_files\n",
      "    File \"/private/var/folders/8w/29spy7853c158mzf537dcy800000gn/T/pip-build-env-u7i33rvf/overlay/lib/python3.11/site-packages/setuptools/_distutils/cmd.py\", line 107, in __getattr__\n",
      "      raise AttributeError(attr)\n",
      "  AttributeError: cython_sources\n",
      "  ----------------------------------------\u001b[0m\n",
      "\u001b[33mWARNING: Discarding https://files.pythonhosted.org/packages/b5/fd/15638de2da0a5aa91c095718444624aa565f766fc178249ca6faa372f71a/PyYAML-5.4.tar.gz#sha256=3c49e39ac034fd64fd576d63bb4db53cda89b362768a67f07749d55f128ac18a (from https://pypi.org/simple/pyyaml/) (requires-python:>=2.7, !=3.0.*, !=3.1.*, !=3.2.*, !=3.3.*, !=3.4.*, !=3.5.*). Command errored out with exit status 1: /Users/tim/miniconda3/envs/ml/bin/python /Users/tim/miniconda3/envs/ml/lib/python3.11/site-packages/pip/_vendor/pep517/in_process/_in_process.py get_requires_for_build_wheel /var/folders/8w/29spy7853c158mzf537dcy800000gn/T/tmp7vhhlu58 Check the logs for full command output.\u001b[0m\n",
      "\u001b[?25h  Using cached PyYAML-5.3.1.tar.gz (269 kB)\n",
      "  Preparing metadata (setup.py) ... \u001b[?25ldone\n",
      "\u001b[?25hCollecting tf-models-official>=2.10.1\n",
      "  Using cached tf_models_official-2.12.1-py2.py3-none-any.whl (2.6 MB)\n",
      "  Using cached tf_models_official-2.12.0-py2.py3-none-any.whl (2.6 MB)\n",
      "  Using cached tf_models_official-2.11.5-py2.py3-none-any.whl (2.4 MB)\n",
      "  Using cached tf_models_official-2.11.4-py2.py3-none-any.whl (2.4 MB)\n",
      "  Using cached tf_models_official-2.11.3-py2.py3-none-any.whl (2.3 MB)\n",
      "  Using cached tf_models_official-2.11.2-py2.py3-none-any.whl (2.3 MB)\n",
      "  Using cached tf_models_official-2.11.0-py2.py3-none-any.whl (2.3 MB)\n",
      "  Using cached tf_models_official-2.10.1-py2.py3-none-any.whl (2.2 MB)\n",
      "INFO: pip is looking at multiple versions of ml-dtypes to determine which version is compatible with other requirements. This could take a while.\n",
      "Collecting tensorflow-macos==2.13.1\n",
      "  Using cached tensorflow_macos-2.13.1-cp311-cp311-macosx_12_0_arm64.whl (189.3 MB)\n",
      "Collecting tensorboard<2.14,>=2.13\n",
      "  Using cached tensorboard-2.13.0-py3-none-any.whl (5.6 MB)\n",
      "Collecting keras<2.14,>=2.13.1\n",
      "  Using cached keras-2.13.1-py3-none-any.whl (1.7 MB)\n",
      "Collecting typing-extensions<4.6.0,>=3.6.6\n",
      "  Using cached typing_extensions-4.5.0-py3-none-any.whl (27 kB)\n",
      "Collecting tensorflow-estimator<2.14,>=2.13.0\n",
      "  Using cached tensorflow_estimator-2.13.0-py2.py3-none-any.whl (440 kB)\n",
      "Collecting numpy\n",
      "  Using cached numpy-1.24.3-cp311-cp311-macosx_11_0_arm64.whl (13.8 MB)\n",
      "Collecting gast<=0.4.0,>=0.2.1\n",
      "  Using cached gast-0.4.0-py3-none-any.whl (9.8 kB)\n",
      "Collecting tensorflow>=2.10\n",
      "  Using cached tensorflow-2.13.0-cp311-cp311-macosx_12_0_arm64.whl (1.9 kB)\n",
      "Collecting tensorflow-macos==2.13.0\n",
      "  Using cached tensorflow_macos-2.13.0-cp311-cp311-macosx_12_0_arm64.whl (189.3 MB)\n",
      "INFO: pip is looking at multiple versions of tensorflow-macos to determine which version is compatible with other requirements. This could take a while.\n",
      "Collecting mediapipe-model-maker\n",
      "  Using cached mediapipe_model_maker-0.1.0-py3-none-any.whl (7.0 MB)\n",
      "Collecting tf-models-official>=2.10\n",
      "  Using cached tf_models_official-2.10.0-py2.py3-none-any.whl (2.2 MB)\n",
      "INFO: This is taking longer than usual. You might need to provide the dependency resolver with stricter constraints to reduce runtime. See https://pip.pypa.io/warnings/backtracking for guidance. If you want to abort this run, press Ctrl + C.\n",
      "INFO: pip is looking at multiple versions of <Python from Requires-Python> to determine which version is compatible with other requirements. This could take a while.\n",
      "INFO: This is taking longer than usual. You might need to provide the dependency resolver with stricter constraints to reduce runtime. See https://pip.pypa.io/warnings/backtracking for guidance. If you want to abort this run, press Ctrl + C.\n",
      "INFO: pip is looking at multiple versions of tensorflow to determine which version is compatible with other requirements. This could take a while.\n",
      "\u001b[31mERROR: Cannot install mediapipe-model-maker==0.1.0.2, mediapipe-model-maker==0.1.1.0 and mediapipe-model-maker==0.1.1.1 because these package versions have conflicting dependencies.\u001b[0m\n",
      "\n",
      "The conflict is caused by:\n",
      "    mediapipe-model-maker 0.1.1.1 depends on mediapipe==0.9.2.1\n",
      "    mediapipe-model-maker 0.1.1.0 depends on mediapipe==0.9.2.1\n",
      "    mediapipe-model-maker 0.1.0.2 depends on mediapipe==0.9.0.1\n",
      "\n",
      "To fix this you could try to:\n",
      "1. loosen the range of package versions you've specified\n",
      "2. remove package versions to allow pip attempt to solve the dependency conflict\n",
      "\n",
      "\u001b[31mERROR: ResolutionImpossible: for help visit https://pip.pypa.io/en/latest/user_guide/#fixing-conflicting-dependencies\u001b[0m\n",
      "\u001b[33mWARNING: You are using pip version 21.3.1; however, version 23.3.1 is available.\n",
      "You should consider upgrading via the '/Users/tim/miniconda3/envs/ml/bin/python -m pip install --upgrade pip' command.\u001b[0m\n"
     ]
    }
   ],
   "source": [
    "!pip install mediapipe==0.9.2.1\n",
    "!pip install mediapipe-model-maker"
   ]
  },
  {
   "cell_type": "markdown",
   "metadata": {
    "id": "v3CvTNmB1WiY"
   },
   "source": [
    "Import the required libraries."
   ]
  },
  {
   "cell_type": "code",
   "execution_count": 5,
   "metadata": {
    "id": "c74UL9oI0VKU"
   },
   "outputs": [
    {
     "ename": "ModuleNotFoundError",
     "evalue": "No module named 'mediapipe_model_maker'",
     "output_type": "error",
     "traceback": [
      "\u001b[0;31m---------------------------------------------------------------------------\u001b[0m",
      "\u001b[0;31mModuleNotFoundError\u001b[0m                       Traceback (most recent call last)",
      "Cell \u001b[0;32mIn[5], line 5\u001b[0m\n\u001b[1;32m      2\u001b[0m \u001b[38;5;28;01mimport\u001b[39;00m \u001b[38;5;21;01mtensorflow\u001b[39;00m \u001b[38;5;28;01mas\u001b[39;00m \u001b[38;5;21;01mtf\u001b[39;00m\n\u001b[1;32m      3\u001b[0m \u001b[38;5;28;01massert\u001b[39;00m tf\u001b[38;5;241m.\u001b[39m__version__\u001b[38;5;241m.\u001b[39mstartswith(\u001b[38;5;124m'\u001b[39m\u001b[38;5;124m2\u001b[39m\u001b[38;5;124m'\u001b[39m)\n\u001b[0;32m----> 5\u001b[0m \u001b[38;5;28;01mfrom\u001b[39;00m \u001b[38;5;21;01mmediapipe_model_maker\u001b[39;00m \u001b[38;5;28;01mimport\u001b[39;00m gesture_recognizer\n\u001b[1;32m      6\u001b[0m \u001b[38;5;28;01mimport\u001b[39;00m \u001b[38;5;21;01mmatplotlib\u001b[39;00m\u001b[38;5;21;01m.\u001b[39;00m\u001b[38;5;21;01mpyplot\u001b[39;00m \u001b[38;5;28;01mas\u001b[39;00m \u001b[38;5;21;01mplt\u001b[39;00m\n",
      "\u001b[0;31mModuleNotFoundError\u001b[0m: No module named 'mediapipe_model_maker'"
     ]
    }
   ],
   "source": [
    "import os\n",
    "import tensorflow as tf\n",
    "assert tf.__version__.startswith('2')\n",
    "\n",
    "from mediapipe_model_maker import gesture_recognizer\n",
    "import matplotlib.pyplot as plt"
   ]
  },
  {
   "cell_type": "markdown",
   "metadata": {
    "id": "IppoENBmAuFn"
   },
   "source": [
    "## Simple End-to-End Example\n",
    "\n",
    "This end-to-end example uses Model Maker to customize a model for on-device gesture recognition."
   ]
  },
  {
   "cell_type": "markdown",
   "metadata": {
    "id": "i8fMLXTdD6tW"
   },
   "source": [
    "### Get the dataset"
   ]
  },
  {
   "cell_type": "markdown",
   "metadata": {
    "id": "7TwDFilngzjs"
   },
   "source": [
    "The dataset for gesture recognition in model maker requires the following format: `<dataset_path>/<label_name>/<img_name>.*`. In addition, one of the label names (`label_names`) must be `none`. The `none` label represents any gesture that isn't classified as one of the other gestures.\n",
    "\n",
    "This example uses a rock paper scissors dataset sample which is downloaded from GCS."
   ]
  },
  {
   "cell_type": "markdown",
   "metadata": {
    "id": "iiWb9Tu3lBBI"
   },
   "source": [
    "Verify the rock paper scissors dataset by printing the labels. There should be 4 gesture labels, with one of them being the `none` gesture."
   ]
  },
  {
   "cell_type": "code",
   "execution_count": 4,
   "metadata": {},
   "outputs": [
    {
     "data": {
      "text/plain": [
       "'rps_data_sample'"
      ]
     },
     "execution_count": 4,
     "metadata": {},
     "output_type": "execute_result"
    }
   ],
   "source": [
    "dataset_path"
   ]
  },
  {
   "cell_type": "code",
   "execution_count": null,
   "metadata": {
    "id": "QgadM4VDj3Y2"
   },
   "outputs": [],
   "source": [
    "print(dataset_path)\n",
    "labels = []\n",
    "for i in os.listdir(dataset_path):\n",
    "  if os.path.isdir(os.path.join(dataset_path, i)):\n",
    "    labels.append(i)\n",
    "print(labels)"
   ]
  },
  {
   "cell_type": "markdown",
   "metadata": {
    "id": "CA0o59OMjqmV"
   },
   "source": [
    "To better understand the dataset, plot a couple of example images for each gesture."
   ]
  },
  {
   "cell_type": "code",
   "execution_count": null,
   "metadata": {
    "id": "sx8PsrwYjvgO"
   },
   "outputs": [],
   "source": [
    "NUM_EXAMPLES = 5\n",
    "\n",
    "for label in labels:\n",
    "  label_dir = os.path.join(dataset_path, label)\n",
    "  example_filenames = os.listdir(label_dir)[:NUM_EXAMPLES]\n",
    "  fig, axs = plt.subplots(1, NUM_EXAMPLES, figsize=(10,2))\n",
    "  for i in range(NUM_EXAMPLES):\n",
    "    axs[i].imshow(plt.imread(os.path.join(label_dir, example_filenames[i])))\n",
    "    axs[i].get_xaxis().set_visible(False)\n",
    "    axs[i].get_yaxis().set_visible(False)\n",
    "  fig.suptitle(f'Showing {NUM_EXAMPLES} examples for {label}')\n",
    "\n",
    "plt.show()"
   ]
  },
  {
   "cell_type": "markdown",
   "metadata": {
    "id": "sWXwEXSXlg7d"
   },
   "source": [
    "### Run the example\n",
    "The workflow consists of 4 steps which have been separated into their own code blocks."
   ]
  },
  {
   "cell_type": "markdown",
   "metadata": {
    "id": "OF9ArLQXIu25"
   },
   "source": [
    "**Load the dataset**\n",
    "\n",
    "Load the dataset located at `dataset_path` by using the `Dataset.from_folder` method. When loading the dataset, run the pre-packaged hand detection model from MediaPipe Hands to detect the hand landmarks from the images. Any images without detected hands are ommitted from the dataset. The resulting dataset will contain the extracted hand landmark positions from each image, rather than images themselves.\n",
    "\n",
    "The `HandDataPreprocessingParams` class contains two configurable options for the data loading process:\n",
    "* `shuffle`: A boolean controlling whether to shuffle the dataset. Defaults to true.\n",
    "* `min_detection_confidence`: A float between 0 and 1 controlling the confidence threshold for hand detection.\n",
    "\n",
    "Split the dataset: 80% for training, 10% for validation, and 10% for testing."
   ]
  },
  {
   "cell_type": "code",
   "execution_count": null,
   "metadata": {
    "id": "aTTNZsolKXiT"
   },
   "outputs": [],
   "source": [
    "data = gesture_recognizer.Dataset.from_folder(\n",
    "    dirname=dataset_path,\n",
    "    hparams=gesture_recognizer.HandDataPreprocessingParams()\n",
    ")\n",
    "train_data, rest_data = data.split(0.8)\n",
    "validation_data, test_data = rest_data.split(0.5)"
   ]
  },
  {
   "cell_type": "markdown",
   "metadata": {
    "id": "ndTh_ZyEIeKV"
   },
   "source": [
    "**Train the model**"
   ]
  },
  {
   "cell_type": "markdown",
   "metadata": {
    "id": "yAXWc3bv8hpe"
   },
   "source": [
    "Train the custom gesture recognizer by using the create method and passing in the training data, validation data, model options, and hyperparameters. For more information on model options and hyperparameters, see the [Hyperparameters](#hyperparameters) section below."
   ]
  },
  {
   "cell_type": "code",
   "execution_count": null,
   "metadata": {
    "id": "yk0UiRB6NZrb"
   },
   "outputs": [],
   "source": [
    "hparams = gesture_recognizer.HParams(export_dir=\"exported_model\")\n",
    "options = gesture_recognizer.GestureRecognizerOptions(hparams=hparams)\n",
    "model = gesture_recognizer.GestureRecognizer.create(\n",
    "    train_data=train_data,\n",
    "    validation_data=validation_data,\n",
    "    options=options\n",
    ")"
   ]
  },
  {
   "cell_type": "markdown",
   "metadata": {
    "id": "nED7mdIO9YS6"
   },
   "source": [
    "**Evaluate the model performance**\n",
    "\n",
    "After training the model, evaluate it on a test dataset and print the loss and accuracy metrics."
   ]
  },
  {
   "cell_type": "code",
   "execution_count": null,
   "metadata": {
    "id": "OdOqllqx9YKy"
   },
   "outputs": [],
   "source": [
    "loss, acc = model.evaluate(test_data, batch_size=1)\n",
    "print(f\"Test loss:{loss}, Test accuracy:{acc}\")"
   ]
  },
  {
   "cell_type": "markdown",
   "metadata": {
    "id": "vJLramjy9gvy"
   },
   "source": [
    "**Export to Tensorflow Lite Model**\n",
    "\n",
    "After creating the model, convert and export it to a Tensorflow Lite model format for later use on an on-device application. The export also includes model metadata, which includes the label file."
   ]
  },
  {
   "cell_type": "code",
   "execution_count": null,
   "metadata": {
    "id": "fmNaFXytijVg"
   },
   "outputs": [],
   "source": [
    "model.export_model()\n",
    "!ls exported_model"
   ]
  },
  {
   "cell_type": "code",
   "execution_count": null,
   "metadata": {
    "id": "7yfN_47qjjOC"
   },
   "outputs": [],
   "source": [
    "files.download('exported_model/gesture_recognizer.task')"
   ]
  },
  {
   "cell_type": "markdown",
   "metadata": {
    "id": "ulqyNGmTCKeU"
   },
   "source": [
    "## Run the model on-device\n",
    "\n",
    "To use the TFLite model for on-device usage through MediaPipe Tasks, refer to the Gesture Recognizer [overview page](https://developers.google.com/mediapipe/solutions/vision/gesture_recognizer)."
   ]
  },
  {
   "cell_type": "markdown",
   "metadata": {
    "id": "F1tiLGGRcvhy"
   },
   "source": [
    "## Hyperparameters {:#hyperparameters}\n"
   ]
  },
  {
   "cell_type": "markdown",
   "metadata": {
    "id": "f1UMEG85hQL_"
   },
   "source": [
    "You can further customize the model using the `GestureRecognizerOptions` class, which has two optional parameters for `ModelOptions` and `HParams`. Use the `ModelOptions` class to customize parameters related to the model itself, and the `HParams` class to customize other parameters related to training and saving the model.\n",
    "\n",
    "`ModelOptions` has one customizable parameter that affects accuracy:\n",
    "* `dropout_rate`: The fraction of the input units to drop. Used in dropout layer. Defaults to 0.05.\n",
    "* `layer_widths`: A list of hidden layer widths for the gesture model. Each element in the list will create a new hidden layer with the specified width. The hidden layers are separated with BatchNorm, Dropout, and ReLU. Defaults to an empty list(no hidden layers).\n",
    "\n",
    "`HParams` has the following list of customizable parameters which affect model accuracy:\n",
    "* `learning_rate`: The learning rate to use for gradient descent training. Defaults to 0.001.\n",
    "* `batch_size`: Batch size for training. Defaults to 2.\n",
    "* `epochs`: Number of training iterations over the dataset. Defaults to 10.\n",
    "* `steps_per_epoch`: An optional integer that indicates the number of training steps per epoch. If not set, the training pipeline calculates the default steps per epoch as the training dataset size divided by batch size.\n",
    "* `shuffle`: True if the dataset is shuffled before training. Defaults to False.\n",
    "* `lr_decay`: Learning rate decay to use for gradient descent training. Defaults to 0.99.\n",
    "* `gamma`: Gamma parameter for focal loss. Defaults to 2\n",
    "\n",
    "Additional `HParams` parameter that does not affect model accuracy:\n",
    "* `export_dir`: The location of the model checkpoint files and exported model files."
   ]
  },
  {
   "cell_type": "markdown",
   "metadata": {
    "id": "psvVZeSYBLfV"
   },
   "source": [
    "For example, the following trains a new model with the dropout_rate of 0.2 and learning rate of 0.003."
   ]
  },
  {
   "cell_type": "code",
   "execution_count": null,
   "metadata": {
    "id": "CxMOI8o6iNLu"
   },
   "outputs": [],
   "source": [
    "hparams = gesture_recognizer.HParams(learning_rate=0.003, export_dir=\"exported_model_2\")\n",
    "model_options = gesture_recognizer.ModelOptions(dropout_rate=0.2)\n",
    "options = gesture_recognizer.GestureRecognizerOptions(model_options=model_options, hparams=hparams)\n",
    "model_2 = gesture_recognizer.GestureRecognizer.create(\n",
    "    train_data=train_data,\n",
    "    validation_data=validation_data,\n",
    "    options=options\n",
    ")"
   ]
  },
  {
   "cell_type": "markdown",
   "metadata": {
    "id": "3cekuTJiBbv9"
   },
   "source": [
    "Evaluate the newly trained model."
   ]
  },
  {
   "cell_type": "code",
   "execution_count": null,
   "metadata": {
    "id": "RRH96bm-BbAo"
   },
   "outputs": [],
   "source": [
    "loss, accuracy = model_2.evaluate(test_data)\n",
    "print(f\"Test loss:{loss}, Test accuracy:{accuracy}\")"
   ]
  }
 ],
 "metadata": {
  "colab": {
   "private_outputs": true,
   "provenance": []
  },
  "kernelspec": {
   "display_name": "Python 3 (ipykernel)",
   "language": "python",
   "name": "python3"
  },
  "language_info": {
   "codemirror_mode": {
    "name": "ipython",
    "version": 3
   },
   "file_extension": ".py",
   "mimetype": "text/x-python",
   "name": "python",
   "nbconvert_exporter": "python",
   "pygments_lexer": "ipython3",
   "version": "3.11.5"
  }
 },
 "nbformat": 4,
 "nbformat_minor": 4
}
